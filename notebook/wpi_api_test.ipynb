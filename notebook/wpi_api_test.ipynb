{
 "cells": [
  {
   "cell_type": "markdown",
   "metadata": {},
   "source": [
    "# Introduction\n",
    "\n",
    "This notebook contains experiments with Wordpress APIs. The goal is to explore the wordpress APIs and use WP APIs in order to fetch the details and contents of WP pages and sites. \n",
    "\n",
    "This data will be used to create embeddings and provided to the RAG-based ChatBot."
   ]
  },
  {
   "cell_type": "code",
   "execution_count": null,
   "metadata": {},
   "outputs": [],
   "source": []
  }
 ],
 "metadata": {
  "language_info": {
   "name": "python"
  }
 },
 "nbformat": 4,
 "nbformat_minor": 2
}
